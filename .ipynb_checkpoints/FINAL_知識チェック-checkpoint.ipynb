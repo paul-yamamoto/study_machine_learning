{
 "cells": [
  {
   "cell_type": "markdown",
   "metadata": {},
   "source": [
    "# 最終試験（知識チェック）"
   ]
  },
  {
   "cell_type": "markdown",
   "metadata": {},
   "source": [
    "## 1.テスト前準備"
   ]
  },
  {
   "cell_type": "markdown",
   "metadata": {},
   "source": [
    "以下順に、正常終了を確認して下さい。"
   ]
  },
  {
   "cell_type": "code",
   "execution_count": 1,
   "metadata": {
    "collapsed": true
   },
   "outputs": [],
   "source": [
    "from ipywidgets import interact,interactive,fixed,interact_manual\n",
    "from IPython.display import display\n",
    "import ipywidgets as widgets"
   ]
  },
  {
   "cell_type": "code",
   "execution_count": 2,
   "metadata": {
    "collapsed": true
   },
   "outputs": [],
   "source": [
    "def get_answer(x):\n",
    "    return x"
   ]
  },
  {
   "cell_type": "markdown",
   "metadata": {},
   "source": [
    "以下コードを実行すると、ラジオボタンが表示されます。設問への回答は「ラジオボタンの選択」で行って下さい。以下、「雨」ボタンを選択して下さい。"
   ]
  },
  {
   "cell_type": "code",
   "execution_count": 3,
   "metadata": {},
   "outputs": [
    {
     "data": {
      "application/vnd.jupyter.widget-view+json": {
       "model_id": "bdf613f2184443cca8e5e1d789a97a09",
       "version_major": 2,
       "version_minor": 0
      },
      "text/plain": [
       "A Jupyter Widget"
      ]
     },
     "metadata": {},
     "output_type": "display_data"
    }
   ],
   "source": [
    "sample_answer = get_answer(widgets.RadioButtons(options=['晴れ','曇り','雨']))\n",
    "display(sample_answer)"
   ]
  },
  {
   "cell_type": "markdown",
   "metadata": {},
   "source": [
    "ボタン選択を「雨」に変えたら、以下を実行し回答が「雨」が出力されることを確認して下さい。ボタン選択の反映確認ができました。下記注意点を読んで、最終知識チェックを進めて下さい。"
   ]
  },
  {
   "cell_type": "code",
   "execution_count": 4,
   "metadata": {},
   "outputs": [
    {
     "data": {
      "text/plain": [
       "'雨'"
      ]
     },
     "execution_count": 4,
     "metadata": {},
     "output_type": "execute_result"
    }
   ],
   "source": [
    "sample_answer.value"
   ]
  },
  {
   "cell_type": "markdown",
   "metadata": {},
   "source": [
    "### 注意点\n",
    "- コードを一度実行しラジオボタンの選択を行って下さい。コードに変更は加えないで下さい。\n",
    "- Codeを再実行すると回答が初期化されるので注意して下さい。"
   ]
  },
  {
   "cell_type": "markdown",
   "metadata": {},
   "source": [
    "## 2. 最終知識チェック\n",
    "各設問への回答を選択してください。回答を終えたら本ファイルの「保存」を忘れずにして下さい。"
   ]
  },
  {
   "cell_type": "markdown",
   "metadata": {},
   "source": [
    "#### 設問1：機械学習の大別として相応しくないものはどれか？"
   ]
  },
  {
   "cell_type": "code",
   "execution_count": 5,
   "metadata": {},
   "outputs": [
    {
     "data": {
      "application/vnd.jupyter.widget-view+json": {
       "model_id": "5be42fb612e14bcfa560a77e398b8a33",
       "version_major": 2,
       "version_minor": 0
      },
      "text/plain": [
       "A Jupyter Widget"
      ]
     },
     "metadata": {},
     "output_type": "display_data"
    }
   ],
   "source": [
    "ans1 = get_answer(widgets.RadioButtons(options=['強化学習','教師あり学習','教師なし学習','深層学習']))\n",
    "display(ans1)"
   ]
  },
  {
   "cell_type": "markdown",
   "metadata": {},
   "source": [
    "#### 設問2：教師あり学習のタスクとして相応しくないものはどれか？"
   ]
  },
  {
   "cell_type": "code",
   "execution_count": 6,
   "metadata": {},
   "outputs": [
    {
     "data": {
      "application/vnd.jupyter.widget-view+json": {
       "model_id": "aaca44276ff54ae88ed99d7440159696",
       "version_major": 2,
       "version_minor": 0
      },
      "text/plain": [
       "A Jupyter Widget"
      ]
     },
     "metadata": {},
     "output_type": "display_data"
    }
   ],
   "source": [
    "ans2 = get_answer(widgets.RadioButtons(options=['回帰', '分類', 'クラスタリング']))\n",
    "display(ans2)"
   ]
  },
  {
   "cell_type": "markdown",
   "metadata": {},
   "source": [
    "#### 設問3：交叉検証の手法として相応しくないものはどれか？"
   ]
  },
  {
   "cell_type": "code",
   "execution_count": 7,
   "metadata": {},
   "outputs": [
    {
     "data": {
      "application/vnd.jupyter.widget-view+json": {
       "model_id": "35b052fea685465c85e58b2d7d8eb460",
       "version_major": 2,
       "version_minor": 0
      },
      "text/plain": [
       "A Jupyter Widget"
      ]
     },
     "metadata": {},
     "output_type": "display_data"
    }
   ],
   "source": [
    "ans3 = get_answer(widgets.RadioButtons(options=['正則化', 'holdout', 'k-fold']))\n",
    "display(ans3)"
   ]
  },
  {
   "cell_type": "markdown",
   "metadata": {},
   "source": [
    "#### 設問4：訓練データ時の精度が、検証データ時の精度を大きく上回るような状態のことを何と言うか？"
   ]
  },
  {
   "cell_type": "code",
   "execution_count": 8,
   "metadata": {},
   "outputs": [
    {
     "data": {
      "application/vnd.jupyter.widget-view+json": {
       "model_id": "325391107d584074a6cb1fdf9fcc3c20",
       "version_major": 2,
       "version_minor": 0
      },
      "text/plain": [
       "A Jupyter Widget"
      ]
     },
     "metadata": {},
     "output_type": "display_data"
    }
   ],
   "source": [
    "ans4 = get_answer(widgets.RadioButtons(options=['ドロップアウト', '強化学習', '過学習']))\n",
    "display(ans4)"
   ]
  },
  {
   "cell_type": "markdown",
   "metadata": {},
   "source": [
    "#### 設問5：教師あり学習のタスクで、2つ以上のラベルを識別するためのタスクはどれか？"
   ]
  },
  {
   "cell_type": "code",
   "execution_count": 9,
   "metadata": {},
   "outputs": [
    {
     "data": {
      "application/vnd.jupyter.widget-view+json": {
       "model_id": "e6273b7db85a4a2b92e1835dfb116766",
       "version_major": 2,
       "version_minor": 0
      },
      "text/plain": [
       "A Jupyter Widget"
      ]
     },
     "metadata": {},
     "output_type": "display_data"
    }
   ],
   "source": [
    "ans5 = get_answer(widgets.RadioButtons(options=['分類', '交叉検証', '回帰']))\n",
    "display(ans5)"
   ]
  },
  {
   "cell_type": "markdown",
   "metadata": {},
   "source": [
    "#### 設問6：教師なし学習の手法に含まれないものはどれか？"
   ]
  },
  {
   "cell_type": "code",
   "execution_count": 10,
   "metadata": {},
   "outputs": [
    {
     "data": {
      "application/vnd.jupyter.widget-view+json": {
       "model_id": "4c05b205ca4f43b9914a5f937038993f",
       "version_major": 2,
       "version_minor": 0
      },
      "text/plain": [
       "A Jupyter Widget"
      ]
     },
     "metadata": {},
     "output_type": "display_data"
    }
   ],
   "source": [
    "ans6 = get_answer(widgets.RadioButtons(options=['k-means','主成分分析','リッジ回帰']))\n",
    "display(ans6)"
   ]
  },
  {
   "cell_type": "markdown",
   "metadata": {},
   "source": [
    "#### 設問7：学習パラメータ（回帰係数など）に過度の重みが付かないよう、損失関数が設計されることを何と呼ぶか？"
   ]
  },
  {
   "cell_type": "code",
   "execution_count": 11,
   "metadata": {},
   "outputs": [
    {
     "data": {
      "application/vnd.jupyter.widget-view+json": {
       "model_id": "95c7cfc01c8e474ba6f55d1c997548ee",
       "version_major": 2,
       "version_minor": 0
      },
      "text/plain": [
       "A Jupyter Widget"
      ]
     },
     "metadata": {},
     "output_type": "display_data"
    }
   ],
   "source": [
    "ans7 = get_answer(widgets.RadioButtons(options=['次元圧縮','正則化','最適化','上記、いずれでもない']))\n",
    "display(ans7)"
   ]
  },
  {
   "cell_type": "markdown",
   "metadata": {},
   "source": [
    "#### 設問8：データを10分割しその内の1つを検証用にして、モデル評価を実施することを何と呼ぶか？"
   ]
  },
  {
   "cell_type": "code",
   "execution_count": 12,
   "metadata": {},
   "outputs": [
    {
     "data": {
      "application/vnd.jupyter.widget-view+json": {
       "model_id": "6a98f075cd5a4a9c87acad4c6bbd45dd",
       "version_major": 2,
       "version_minor": 0
      },
      "text/plain": [
       "A Jupyter Widget"
      ]
     },
     "metadata": {},
     "output_type": "display_data"
    }
   ],
   "source": [
    "ans8 = get_answer(widgets.RadioButtons(options=['k-fold(k=10)','KNN(k=10)','DBSCAN(minPoints=10)']))\n",
    "display(ans8)"
   ]
  },
  {
   "cell_type": "markdown",
   "metadata": {},
   "source": [
    "#### 設問9：データの前処理として相応しくないものはどれか？"
   ]
  },
  {
   "cell_type": "code",
   "execution_count": 13,
   "metadata": {},
   "outputs": [
    {
     "data": {
      "application/vnd.jupyter.widget-view+json": {
       "model_id": "e2b6aea92f2145b4a98320779b3b6ee5",
       "version_major": 2,
       "version_minor": 0
      },
      "text/plain": [
       "A Jupyter Widget"
      ]
     },
     "metadata": {},
     "output_type": "display_data"
    }
   ],
   "source": [
    "ans9 = get_answer(widgets.RadioButtons(options=['主成分分析','標準化','欠損値補完','one-hotエンコーディング','ハイパーパラメータ調整']))\n",
    "display(ans9)"
   ]
  },
  {
   "cell_type": "markdown",
   "metadata": {},
   "source": [
    "#### 設問10：正解情報を持たず、データを類似性からグループ化する処理はどれか？"
   ]
  },
  {
   "cell_type": "code",
   "execution_count": 14,
   "metadata": {},
   "outputs": [
    {
     "data": {
      "application/vnd.jupyter.widget-view+json": {
       "model_id": "e0d3900f209c445ab19c8f491b4796ab",
       "version_major": 2,
       "version_minor": 0
      },
      "text/plain": [
       "A Jupyter Widget"
      ]
     },
     "metadata": {},
     "output_type": "display_data"
    }
   ],
   "source": [
    "ans10 = get_answer(widgets.RadioButtons(options=['DBSCAN','PCA','多層パーセプトロン','ランダムフォレスト']))\n",
    "display(ans10)"
   ]
  },
  {
   "cell_type": "markdown",
   "metadata": {},
   "source": [
    "#### 設問11：中古車の金額を予測したいとき、候補となるアルゴリズムで不適切なものはどれか？"
   ]
  },
  {
   "cell_type": "code",
   "execution_count": null,
   "metadata": {
    "collapsed": true
   },
   "outputs": [],
   "source": [
    "ans11 = get_answer(widgets.RadioButtons(options=['ランダムフォレスト','ロジスティック回帰','リッジ回帰','ラッソ回帰']))\n",
    "display(ans11)"
   ]
  },
  {
   "cell_type": "markdown",
   "metadata": {},
   "source": [
    "#### 設問12：ある顧客が今後1年間で優良顧客になるか否かを予測したいとき、候補となるアルゴリズムで不適切なものはどれか？"
   ]
  },
  {
   "cell_type": "code",
   "execution_count": null,
   "metadata": {
    "collapsed": true
   },
   "outputs": [],
   "source": [
    "ans12 = get_answer(widgets.RadioButtons(options=['勾配ブースティング','ランダムフォレスト','多層パーセプトロン','主成分分析']))\n",
    "display(ans12)"
   ]
  },
  {
   "cell_type": "markdown",
   "metadata": {},
   "source": [
    "#### 設問13：ランダムフォレストの説明として、相応しくないものはどれか？"
   ]
  },
  {
   "cell_type": "code",
   "execution_count": null,
   "metadata": {
    "collapsed": true
   },
   "outputs": [],
   "source": [
    "ans13 = get_answer(widgets.RadioButtons(options=['多数の決定木で構成される','特徴量がサンプリングされる','ブースティングの一種である','学習データがリサンプリングされる']))\n",
    "display(ans13)"
   ]
  },
  {
   "cell_type": "markdown",
   "metadata": {},
   "source": [
    "#### 設問14：勾配ブースティングの説明として、相応しくないものはどれか？"
   ]
  },
  {
   "cell_type": "code",
   "execution_count": null,
   "metadata": {
    "collapsed": true
   },
   "outputs": [],
   "source": [
    "ans14 = get_answer(widgets.RadioButtons(options=['弱学習器で構成される','残差誤差を打ち消すように学習が進む','過学習に弱い']))\n",
    "display(ans14)"
   ]
  },
  {
   "cell_type": "markdown",
   "metadata": {},
   "source": [
    "#### 設問15：交叉検証に関係のない処理はどれか？"
   ]
  },
  {
   "cell_type": "code",
   "execution_count": null,
   "metadata": {
    "collapsed": true
   },
   "outputs": [],
   "source": [
    "ans15 = get_answer(widgets.RadioButtons(options=['from sklearn.model_selection.train_test_split','from sklearn.model_selection.KFold','from sklearn.feature_selection.RFE']))\n",
    "display(ans15)"
   ]
  },
  {
   "cell_type": "markdown",
   "metadata": {},
   "source": [
    "#### 設問16：線形回帰は教師あり学習か？"
   ]
  },
  {
   "cell_type": "code",
   "execution_count": null,
   "metadata": {
    "collapsed": true
   },
   "outputs": [],
   "source": [
    "ans16 = get_answer(widgets.RadioButtons(options=['True','False']))\n",
    "display(ans16)"
   ]
  },
  {
   "cell_type": "markdown",
   "metadata": {},
   "source": [
    "#### 設問17：線形回帰モデルはニューラルネットワークで構成できるか？"
   ]
  },
  {
   "cell_type": "code",
   "execution_count": null,
   "metadata": {
    "collapsed": true
   },
   "outputs": [],
   "source": [
    "ans17 = get_answer(widgets.RadioButtons(options=['True','False']))\n",
    "display(ans17)"
   ]
  },
  {
   "cell_type": "markdown",
   "metadata": {},
   "source": [
    "#### 設問18：回帰（regression）の評価指標として適切なものはどれか？"
   ]
  },
  {
   "cell_type": "code",
   "execution_count": null,
   "metadata": {
    "collapsed": true
   },
   "outputs": [],
   "source": [
    "ans18 = get_answer(widgets.RadioButtons(options=['ROC-AUC','正解率（Accuracy）','平均二乗誤差（Mean-Squared-Error）']))\n",
    "display(ans18)"
   ]
  },
  {
   "cell_type": "markdown",
   "metadata": {},
   "source": [
    "#### 設問19：残差について正しい解釈はどれか？"
   ]
  },
  {
   "cell_type": "code",
   "execution_count": null,
   "metadata": {
    "collapsed": true
   },
   "outputs": [],
   "source": [
    "ans19 = get_answer(widgets.RadioButtons(options=['大きい方が良い','小さい方が良い','どちらとも言えない']))\n",
    "display(ans19)"
   ]
  },
  {
   "cell_type": "markdown",
   "metadata": {},
   "source": [
    "#### 設問20：訓練データが大きいほど、過学習が起こりやすくなるか？"
   ]
  },
  {
   "cell_type": "code",
   "execution_count": null,
   "metadata": {
    "collapsed": true
   },
   "outputs": [],
   "source": [
    "ans20 = get_answer(widgets.RadioButtons(options=['True','False']))\n",
    "display(ans20)"
   ]
  },
  {
   "cell_type": "markdown",
   "metadata": {},
   "source": [
    "#### 設問21：リッジ回帰の正則化項の強さ（パラメータ）を大きくすると、検証誤差はどのようになるか？"
   ]
  },
  {
   "cell_type": "code",
   "execution_count": null,
   "metadata": {
    "collapsed": true
   },
   "outputs": [],
   "source": [
    "ans21 = get_answer(widgets.RadioButtons(options=['検証誤差は小さくなる','検証誤差は大きくなる','どちらても言えない']))\n",
    "display(ans21)"
   ]
  },
  {
   "cell_type": "markdown",
   "metadata": {},
   "source": [
    "#### 設問22：リッジ回帰の正則化項の強さ（パラメータ）を大きくすると、回帰係数はどのようになるか？"
   ]
  },
  {
   "cell_type": "code",
   "execution_count": null,
   "metadata": {
    "collapsed": true
   },
   "outputs": [],
   "source": [
    "ans22 = get_answer(widgets.RadioButtons(options=['絶対値の総和がゼロに近づく','絶対値の総和は大きくなる','どちらとも言えない']))\n",
    "display(ans22)"
   ]
  },
  {
   "cell_type": "markdown",
   "metadata": {},
   "source": [
    "#### 設問23：あなたのモデルがunderfitting（学習不足）の場合、何を検討するでしょうか？"
   ]
  },
  {
   "cell_type": "code",
   "execution_count": null,
   "metadata": {
    "collapsed": true
   },
   "outputs": [],
   "source": [
    "ans23 = get_answer(widgets.RadioButtons(options=['特徴量の追加','特徴量の削減','どちらも優先検討事項ではない']))\n",
    "display(ans23)"
   ]
  },
  {
   "cell_type": "markdown",
   "metadata": {},
   "source": [
    "#### 設問24：あなたのモデルがunderfitting（学習不足）の場合、正則化についてどのような方針を持つでしょうか？"
   ]
  },
  {
   "cell_type": "code",
   "execution_count": null,
   "metadata": {
    "collapsed": true
   },
   "outputs": [],
   "source": [
    "ans24 = get_answer(widgets.RadioButtons(options=['L1正則化の採用','L2正則化の採用','種類問わず採用','正則化は採用しない']))\n",
    "display(ans24)"
   ]
  },
  {
   "cell_type": "markdown",
   "metadata": {},
   "source": [
    "#### 設問25：あなたのモデルの訓練誤差と検証誤差の乖離が大きい場合、何を優先検討するでしょうか？"
   ]
  },
  {
   "cell_type": "code",
   "execution_count": null,
   "metadata": {
    "collapsed": true
   },
   "outputs": [],
   "source": [
    "ans25 = get_answer(widgets.RadioButtons(options=['特徴量の追加','データサンプルの追加','どちらも優先検討事項ではない']))\n",
    "display(ans25)"
   ]
  },
  {
   "cell_type": "markdown",
   "metadata": {},
   "source": [
    "#### 設問26：ロジスティック回帰モデルは、ニューラルネットワークで構成できるか？"
   ]
  },
  {
   "cell_type": "code",
   "execution_count": null,
   "metadata": {
    "collapsed": true
   },
   "outputs": [],
   "source": [
    "ans26 = get_answer(widgets.RadioButtons(options=['True','False']))\n",
    "display(ans26)"
   ]
  },
  {
   "cell_type": "markdown",
   "metadata": {},
   "source": [
    "#### 設問27：ロジスティック回帰による、正例・負例の境界線が以下の(A)(B)(C)のようになった。過学習はどれか？\n",
    "<img src='./images/boundaries_logistic_regression.jpg'>"
   ]
  },
  {
   "cell_type": "code",
   "execution_count": null,
   "metadata": {
    "collapsed": true
   },
   "outputs": [],
   "source": [
    "ans27 = get_answer(widgets.RadioButtons(options=['A','B','C','いずれも過学習ではない']))\n",
    "display(ans27)"
   ]
  },
  {
   "cell_type": "markdown",
   "metadata": {},
   "source": [
    "#### 設問28：ROC曲線の横軸と縦軸の組み合わせとして正しいものはどれか？　※横軸-縦軸の順に掲載"
   ]
  },
  {
   "cell_type": "code",
   "execution_count": null,
   "metadata": {
    "collapsed": true
   },
   "outputs": [],
   "source": [
    "ans28 = get_answer(widgets.RadioButtons(options=['Flase Positive rate-True Positive rate','True Positive rate-False Positive rate','いずれでもない']))\n",
    "display(ans28)"
   ]
  },
  {
   "cell_type": "markdown",
   "metadata": {},
   "source": [
    "#### 設問29：KNN（K近傍法）アルゴリズムの説明として、正しいのはどれか？"
   ]
  },
  {
   "cell_type": "code",
   "execution_count": null,
   "metadata": {
    "collapsed": true
   },
   "outputs": [],
   "source": [
    "ans29 = get_answer(widgets.RadioButtons(options=['回帰のアルゴリズムである','分類のアルゴリズムである','分類・回帰いずれでも使える']))\n",
    "display(ans29)"
   ]
  },
  {
   "cell_type": "markdown",
   "metadata": {},
   "source": [
    "#### 設問30：KNNのK（近傍数）を大きくすると、検証誤差はどうなるか？"
   ]
  },
  {
   "cell_type": "code",
   "execution_count": null,
   "metadata": {
    "collapsed": true
   },
   "outputs": [],
   "source": [
    "ans30 = get_answer(widgets.RadioButtons(options=['検証誤差が小さくなる','検証誤差が大きくなる','どちらとも言えない']))\n",
    "display(ans30)"
   ]
  },
  {
   "cell_type": "markdown",
   "metadata": {},
   "source": [
    "#### 設問31：KNNのK（近傍数）を大きくすると、訓練誤差と検証誤差の関係はどうなるか？"
   ]
  },
  {
   "cell_type": "code",
   "execution_count": null,
   "metadata": {
    "collapsed": true
   },
   "outputs": [],
   "source": [
    "ans31 = get_answer(widgets.RadioButtons(options=['訓練誤差と検証誤差がほぼ一致する','訓練誤差と検証誤差が乖離する','どちらとも言えない']))\n",
    "display(ans31)"
   ]
  },
  {
   "cell_type": "markdown",
   "metadata": {},
   "source": [
    "#### 設問32：アンサンブル学習のアルゴリズムではないのは、以下のうちどれか？"
   ]
  },
  {
   "cell_type": "code",
   "execution_count": null,
   "metadata": {
    "collapsed": true
   },
   "outputs": [],
   "source": [
    "ans32 = get_answer(widgets.RadioButtons(options=['Random Forest','Gradient Boosting','AdaBoosting','Decision Tree']))\n",
    "display(ans32)"
   ]
  },
  {
   "cell_type": "markdown",
   "metadata": {},
   "source": [
    "#### 設問33：勾配ブースティングのハイパーパラメータである「決定木の数」を大きくすると計算時間はどのように変化するか？"
   ]
  },
  {
   "cell_type": "code",
   "execution_count": null,
   "metadata": {
    "collapsed": true
   },
   "outputs": [],
   "source": [
    "ans33 = get_answer(widgets.RadioButtons(options=['木の数を増やすと増える','木の数を増やすと減る','計算時間は変わらない']))\n",
    "display(ans33)"
   ]
  },
  {
   "cell_type": "markdown",
   "metadata": {},
   "source": [
    "#### 設問34：ブースティングは弱学習器で構成されるのが普通だが、その主な理由は何か？"
   ]
  },
  {
   "cell_type": "code",
   "execution_count": null,
   "metadata": {
    "collapsed": true
   },
   "outputs": [],
   "source": [
    "ans34 = get_answer(widgets.RadioButtons(options=['学習不足(underfitting)の回避','過学習(overfitting)の回避']))\n",
    "display(ans34)"
   ]
  },
  {
   "cell_type": "markdown",
   "metadata": {},
   "source": [
    "#### 設問35：勾配ブースティングのハイパーパラメータ調整の結果、以下の交叉検証の結果を得た。何番のシナリオを採用すべきか？\n",
    "<img src='./images/validation_scenario.png'>"
   ]
  },
  {
   "cell_type": "code",
   "execution_count": null,
   "metadata": {
    "collapsed": true
   },
   "outputs": [],
   "source": [
    "ans35 = get_answer(widgets.RadioButtons(options=['Scenario-1','Scenario-2','Scenario-3','Scenario-4','Scenario-5']))\n",
    "display(ans35)"
   ]
  },
  {
   "cell_type": "markdown",
   "metadata": {},
   "source": [
    "#### 設問36：隠れ層（中間層）が1層である単純パーセプトロンのモデル限界は何か？"
   ]
  },
  {
   "cell_type": "code",
   "execution_count": null,
   "metadata": {
    "collapsed": true
   },
   "outputs": [],
   "source": [
    "ans36 = get_answer(widgets.RadioButtons(options=['勾配消失問題','線形分離不可問題が解けないこと','計算時間']))\n",
    "display(ans36)"
   ]
  },
  {
   "cell_type": "markdown",
   "metadata": {},
   "source": [
    "#### 設問37：誤差逆伝播法の貢献は、入力層と隠れ層（及び隠れ層の間）の学習パラメータの更新を可能にしたことである。"
   ]
  },
  {
   "cell_type": "code",
   "execution_count": null,
   "metadata": {
    "collapsed": true
   },
   "outputs": [],
   "source": [
    "ans37 = get_answer(widgets.RadioButtons(options=['True','False']))\n",
    "display(ans37)"
   ]
  },
  {
   "cell_type": "markdown",
   "metadata": {},
   "source": [
    "#### 設問38：誤差逆伝播法の課題に、入力層に近づくほど学習パラメータの更新が進まない、勾配消失問題が挙げられる。"
   ]
  },
  {
   "cell_type": "code",
   "execution_count": null,
   "metadata": {
    "collapsed": true
   },
   "outputs": [],
   "source": [
    "ans38 = get_answer(widgets.RadioButtons(options=['True','False']))\n",
    "display(ans38)"
   ]
  },
  {
   "cell_type": "markdown",
   "metadata": {},
   "source": [
    "#### 設問39：ニューラルネットワークの活性化関数として相応しくないものはどれか？"
   ]
  },
  {
   "cell_type": "code",
   "execution_count": null,
   "metadata": {
    "collapsed": true
   },
   "outputs": [],
   "source": [
    "ans39 = get_answer(widgets.RadioButtons(options=['シグモイド関数','Tanh','ReLU','恒等関数','Sin']))\n",
    "display(ans39)"
   ]
  },
  {
   "cell_type": "markdown",
   "metadata": {},
   "source": [
    "#### 設問40：教師なし学習は次元削減に活用される。"
   ]
  },
  {
   "cell_type": "code",
   "execution_count": null,
   "metadata": {
    "collapsed": true
   },
   "outputs": [],
   "source": [
    "ans40 = get_answer(widgets.RadioButtons(options=['True','False']))\n",
    "display(ans40)"
   ]
  },
  {
   "cell_type": "markdown",
   "metadata": {},
   "source": [
    "#### 設問41：k-means法は距離ベースのソフトクラスタリングである。"
   ]
  },
  {
   "cell_type": "code",
   "execution_count": null,
   "metadata": {
    "collapsed": true
   },
   "outputs": [],
   "source": [
    "ans41 = get_answer(widgets.RadioButtons(options=['True','False']))\n",
    "display(ans41)"
   ]
  },
  {
   "cell_type": "markdown",
   "metadata": {},
   "source": [
    "#### 設問42：DBSCANは密度ベースのソフトクラスタリングである。"
   ]
  },
  {
   "cell_type": "code",
   "execution_count": null,
   "metadata": {
    "collapsed": true
   },
   "outputs": [],
   "source": [
    "ans42 = get_answer(widgets.RadioButtons(options=['True','False']))\n",
    "display(ans42)"
   ]
  },
  {
   "cell_type": "markdown",
   "metadata": {},
   "source": [
    "#### 設問43：DBSCANにおいて、半径ε以内にminPts以上の近傍点を持つ点を何と呼ぶか？"
   ]
  },
  {
   "cell_type": "code",
   "execution_count": null,
   "metadata": {
    "collapsed": true
   },
   "outputs": [],
   "source": [
    "ans43 = get_answer(widgets.RadioButtons(options=['ボーダー','コア','ノイズ']))\n",
    "display(ans43)"
   ]
  },
  {
   "cell_type": "markdown",
   "metadata": {},
   "source": [
    "#### 設問44：ソフトクラスタリングはデータが複数のクラスタに所属する可能性のある手法である。"
   ]
  },
  {
   "cell_type": "code",
   "execution_count": null,
   "metadata": {
    "collapsed": true
   },
   "outputs": [],
   "source": [
    "ans44 = get_answer(widgets.RadioButtons(options=['True','False']))\n",
    "display(ans44)"
   ]
  },
  {
   "cell_type": "markdown",
   "metadata": {},
   "source": [
    "##### 設問45：DBSCANはハイパーパラメータに対して、あまりセンシティブではないアルゴリズムである。"
   ]
  },
  {
   "cell_type": "code",
   "execution_count": null,
   "metadata": {
    "collapsed": true
   },
   "outputs": [],
   "source": [
    "ans45 = get_answer(widgets.RadioButtons(options=['True','False']))\n",
    "display(ans45)"
   ]
  },
  {
   "cell_type": "markdown",
   "metadata": {},
   "source": [
    "#### 設問46：k-meansにせよDBSCANにせよ、前処理をして特徴量Xのスケールを統一させた方が良い。"
   ]
  },
  {
   "cell_type": "code",
   "execution_count": null,
   "metadata": {
    "collapsed": true
   },
   "outputs": [],
   "source": [
    "ans46 = get_answer(widgets.RadioButtons(options=['True','False']))\n",
    "display(ans46)"
   ]
  },
  {
   "cell_type": "markdown",
   "metadata": {},
   "source": [
    "#### 設問47：機械学習は、損失関数（Loss function）を最小にする最適化問題として記述できる。"
   ]
  },
  {
   "cell_type": "code",
   "execution_count": null,
   "metadata": {
    "collapsed": true
   },
   "outputs": [],
   "source": [
    "ans47 = get_answer(widgets.RadioButtons(options=['True','False']))\n",
    "display(ans47)"
   ]
  },
  {
   "cell_type": "markdown",
   "metadata": {},
   "source": [
    "#### 設問48：カテゴリ変数を数値変数化する処理の一つが、one-hotエンコーディングである。"
   ]
  },
  {
   "cell_type": "code",
   "execution_count": null,
   "metadata": {
    "collapsed": true
   },
   "outputs": [],
   "source": [
    "ans48 = get_answer(widgets.RadioButtons(options=['True','False']))\n",
    "display(ans48)"
   ]
  },
  {
   "cell_type": "markdown",
   "metadata": {},
   "source": [
    "#### 設問49：機械学習のアルゴリズムは、正解ラベルに欠損を含んでいても問題なく動作する。"
   ]
  },
  {
   "cell_type": "code",
   "execution_count": null,
   "metadata": {
    "collapsed": true
   },
   "outputs": [],
   "source": [
    "ans49 = get_answer(widgets.RadioButtons(options=['True','False']))\n",
    "display(ans49)"
   ]
  },
  {
   "cell_type": "markdown",
   "metadata": {},
   "source": [
    "#### 設問50：不均衡データ（正例が少ない）への対応として、適切なものはどれか？"
   ]
  },
  {
   "cell_type": "code",
   "execution_count": null,
   "metadata": {
    "collapsed": true
   },
   "outputs": [],
   "source": [
    "ans50 = get_answer(widgets.RadioButtons(options=['負例のランダムなアンダーサンプリング','正例のランダムなオーバーサンプリング','正例をSMOTE','いずれも正しい']))\n",
    "display(ans50)"
   ]
  },
  {
   "cell_type": "markdown",
   "metadata": {},
   "source": [
    "# 3.提出ファイルの作成とアップロード\n",
    "回答を終えたら、本ファイルの保存を確認し以下コードを実行し、出力されたCSVファイルをslackのgeneralにアップロードして下さい。"
   ]
  },
  {
   "cell_type": "code",
   "execution_count": null,
   "metadata": {
    "collapsed": true
   },
   "outputs": [],
   "source": [
    "YOUR_ID='S10000'"
   ]
  },
  {
   "cell_type": "code",
   "execution_count": null,
   "metadata": {
    "collapsed": true
   },
   "outputs": [],
   "source": [
    "your_ans = []\n",
    "for i in range(50):\n",
    "    exec(\"your_ans.append(%s.value)\" % ('ans'+str(i+1)))"
   ]
  },
  {
   "cell_type": "code",
   "execution_count": null,
   "metadata": {
    "collapsed": true
   },
   "outputs": [],
   "source": [
    "import pandas as pd\n",
    "pd.DataFrame(your_ans, columns=['回答']).to_csv('./FINAL_知識チェック_' + YOUR_ID + '.csv', index=False)"
   ]
  },
  {
   "cell_type": "markdown",
   "metadata": {
    "collapsed": true
   },
   "source": [
    "出力ファイルされたCSVファイルを「テスト提出用」チャネルにアップロード下さい。お疲れ様でした。"
   ]
  }
 ],
 "metadata": {
  "kernelspec": {
   "display_name": "Python 3",
   "language": "python",
   "name": "python3"
  },
  "language_info": {
   "codemirror_mode": {
    "name": "ipython",
    "version": 3
   },
   "file_extension": ".py",
   "mimetype": "text/x-python",
   "name": "python",
   "nbconvert_exporter": "python",
   "pygments_lexer": "ipython3",
   "version": "3.6.2"
  }
 },
 "nbformat": 4,
 "nbformat_minor": 2
}
